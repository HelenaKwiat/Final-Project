{
 "cells": [
  {
   "cell_type": "code",
   "execution_count": 25,
   "metadata": {},
   "outputs": [],
   "source": [
    "import pandas as pd\n",
    "bat2019 = pd.read_csv('Batting2019.csv', sep = ',', error_bad_lines=False)\n",
    "pitch2019 = pd.read_csv('Pitching2019.csv', sep = ',', error_bad_lines=False)\n",
    "field2019 = pd.read_csv('Fielding2019.csv', sep = ',', error_bad_lines=False)"
   ]
  },
  {
   "cell_type": "code",
   "execution_count": 28,
   "metadata": {},
   "outputs": [
    {
     "name": "stdout",
     "output_type": "stream",
     "text": [
      "Index(['Name', 'Team', 'G', 'PA', 'HR', 'R', 'RBI', 'SB', 'BB%', 'K%', 'ISO',\n",
      "       'BABIP', 'AVG', 'OBP', 'SLG', 'wOBA', 'wRC+', 'BsR', 'Off', 'Def',\n",
      "       'WAR', 'playerid'],\n",
      "      dtype='object')\n",
      "Index(['Name', 'Team', 'W', 'L', 'SV', 'G', 'GS', 'IP', 'K/9', 'BB/9', 'HR/9',\n",
      "       'BABIP', 'LOB%', 'GB%', 'HR/FB', 'ERA', 'FIP', 'xFIP', 'WAR',\n",
      "       'playerid'],\n",
      "      dtype='object')\n",
      "Index(['Name', 'Team', 'Pos', 'Inn', 'rSZ', 'rCERA', 'rSB', 'rGDP', 'rARM',\n",
      "       'rGFP', 'rPM', 'rTS', 'DRS', 'BIZ', 'Plays', 'RZR', 'OOZ', 'FSR', 'FRM',\n",
      "       'ARM', 'DPR', 'RngR', 'ErrR', 'UZR', 'UZR/150', 'Def', 'playerid'],\n",
      "      dtype='object')\n",
      "Index(['Name', 'Team_x', 'G', 'PA', 'HR', 'R', 'RBI', 'SB', 'BB%', 'K%', 'ISO',\n",
      "       'BABIP', 'AVG', 'OBP', 'SLG', 'wOBA', 'wRC+', 'BsR', 'Off', 'Def_x',\n",
      "       'WAR', 'playerid_x', 'Team_y', 'Pos', 'Inn', 'rSZ', 'rCERA', 'rSB',\n",
      "       'rGDP', 'rARM', 'rGFP', 'rPM', 'rTS', 'DRS', 'BIZ', 'Plays', 'RZR',\n",
      "       'OOZ', 'FSR', 'FRM', 'ARM', 'DPR', 'RngR', 'ErrR', 'UZR', 'UZR/150',\n",
      "       'Def_y', 'playerid_y'],\n",
      "      dtype='object')\n"
     ]
    }
   ],
   "source": [
    "print(bat2019.columns)\n",
    "print(pitch2019.columns)\n",
    "print(field2019.columns)\n",
    "batandField = pd.merge(bat2019, field2019, on ='Name', how = 'inner' )\n",
    "print(batandField.columns)"
   ]
  },
  {
   "cell_type": "code",
   "execution_count": 29,
   "metadata": {},
   "outputs": [
    {
     "name": "stdout",
     "output_type": "stream",
     "text": [
      "     Def_x  Def_y\n",
      "0     -0.4    0.1\n",
      "1     -0.1    0.0\n",
      "2     -1.5   -1.5\n",
      "3      0.7    0.7\n",
      "4      0.1    0.1\n",
      "5      2.3    2.3\n",
      "6      1.3    1.3\n",
      "7     -1.5   -1.5\n",
      "8      0.4    0.4\n",
      "9      2.0    2.0\n",
      "10    -0.3   -0.3\n",
      "11    -0.1   -0.1\n",
      "12     0.0    0.2\n",
      "13     0.9    0.9\n",
      "14     0.8    0.9\n",
      "15     1.0    1.0\n",
      "16     2.5    2.5\n",
      "17     0.6    0.6\n",
      "18    -0.4   -0.3\n",
      "19    -3.3   -3.3\n",
      "20     0.0    0.0\n",
      "21    -0.4   -0.4\n",
      "22     1.9    1.9\n",
      "23     1.5    1.5\n",
      "24    -0.5   -0.5\n",
      "25     1.8    1.8\n",
      "26    -0.6   -0.6\n",
      "27     2.7    2.7\n",
      "28     2.5    2.5\n",
      "29     0.3    0.3\n",
      "..     ...    ...\n",
      "128   -0.5   -0.5\n",
      "129   -4.9   -4.9\n",
      "130    1.1    1.1\n",
      "131    0.6    0.6\n",
      "132    0.0    0.0\n",
      "133   -1.8   -1.8\n",
      "134   -1.1   -0.9\n",
      "135    0.9    0.9\n",
      "136    0.7    0.7\n",
      "137    1.1    1.1\n",
      "138    0.2   -1.1\n",
      "139   -2.2   -2.1\n",
      "140   -1.8   -1.8\n",
      "141   -1.9   -1.5\n",
      "142   -1.8   -1.8\n",
      "143   -1.1   -1.1\n",
      "144   -1.3   -1.3\n",
      "145   -0.1   -0.1\n",
      "146   -1.4   -1.4\n",
      "147   -1.1   -1.1\n",
      "148    0.1    0.1\n",
      "149    0.0    0.0\n",
      "150    1.0    1.0\n",
      "151   -2.1   -2.1\n",
      "152   -1.7   -1.7\n",
      "153    1.4    1.4\n",
      "154   -0.9   -0.9\n",
      "155   -0.9   -0.9\n",
      "156   -0.6   -0.6\n",
      "157   -2.3   -2.2\n",
      "\n",
      "[158 rows x 2 columns]\n"
     ]
    }
   ],
   "source": [
    "print(batandField[['Def_x', 'Def_y']])"
   ]
  },
  {
   "cell_type": "code",
   "execution_count": null,
   "metadata": {
    "collapsed": true
   },
   "outputs": [],
   "source": []
  }
 ],
 "metadata": {
  "kernelspec": {
   "display_name": "Python 3",
   "language": "python",
   "name": "python3"
  },
  "language_info": {
   "codemirror_mode": {
    "name": "ipython",
    "version": 3
   },
   "file_extension": ".py",
   "mimetype": "text/x-python",
   "name": "python",
   "nbconvert_exporter": "python",
   "pygments_lexer": "ipython3",
   "version": "3.6.3"
  }
 },
 "nbformat": 4,
 "nbformat_minor": 2
}
